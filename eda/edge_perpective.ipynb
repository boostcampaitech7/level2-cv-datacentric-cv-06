{
 "cells": [
  {
   "cell_type": "markdown",
   "metadata": {},
   "source": [
    "#### 이미지 전처리\n",
    "이미지를 그레이스케일로 변환하고 블러를 적용한 뒤, Canny Edge Detection 등을 사용하여 윤곽선을 감지합니다. 이는 영수증의 경계를 강조하는 데 도움이 됩니다.\n"
   ]
  },
  {
   "cell_type": "code",
   "execution_count": null,
   "metadata": {},
   "outputs": [],
   "source": [
    "import cv2\n",
    "\n",
    "# 이미지 불러오기\n",
    "image = cv2.imread('receipt.jpg')\n",
    "\n",
    "# 그레이스케일 변환\n",
    "gray = cv2.cvtColor(image, cv2.COLOR_BGR2GRAY)\n",
    "\n",
    "# 블러 적용 (노이즈 제거)\n",
    "blurred = cv2.GaussianBlur(gray, (5, 5), 0)\n",
    "\n",
    "# Canny Edge Detection\n",
    "edges = cv2.Canny(blurred, 50, 150)"
   ]
  },
  {
   "cell_type": "markdown",
   "metadata": {},
   "source": [
    "#### 윤곽선 찾기\n",
    "감지된 윤곽선 중 사각형 모양의 가장 큰 윤곽선을 찾아 영수증 영역으로 간주합니다. OpenCV의 findContours와 approxPolyDP 함수를 사용하여 윤곽선을 찾고 단순화할 수 있습니다."
   ]
  },
  {
   "cell_type": "code",
   "execution_count": null,
   "metadata": {},
   "outputs": [],
   "source": [
    "# 윤곽선 찾기\n",
    "contours, _ = cv2.findContours(edges, cv2.RETR_EXTERNAL, cv2.CHAIN_APPROX_SIMPLE)\n",
    "\n",
    "# 가장 큰 윤곽선 찾기\n",
    "receipt_contour = max(contours, key=cv2.contourArea)\n",
    "\n",
    "# 윤곽선을 사각형으로 근사화\n",
    "epsilon = 0.02 * cv2.arcLength(receipt_contour, True)\n",
    "approx = cv2.approxPolyDP(receipt_contour, epsilon, True)"
   ]
  },
  {
   "cell_type": "markdown",
   "metadata": {},
   "source": [
    "#### 꼭짓점 좌표 추출\n",
    "영수증의 윤곽선을 근사화한 후, 사각형 모양이라면 4개의 꼭짓점 좌표를 얻게 됩니다. 이 좌표들을 Perspective Transform의 입력 좌표로 사용할 수 있습니다."
   ]
  },
  {
   "cell_type": "code",
   "execution_count": null,
   "metadata": {},
   "outputs": [],
   "source": [
    "# 사각형 좌표 확인\n",
    "if len(approx) == 4:\n",
    "    pts = approx.reshape(4, 2)  # 4개의 꼭짓점 좌표\n",
    "else:\n",
    "    print(\"영수증 윤곽을 사각형으로 감지하지 못했습니다.\")"
   ]
  },
  {
   "cell_type": "markdown",
   "metadata": {},
   "source": [
    "#### 좌표 순서 정렬\n",
    "pts에 있는 좌표를 적절한 순서(좌상단, 우상단, 좌하단, 우하단)로 정렬하여 원근 변환에 사용할 수 있도록 합니다. 일반적으로 x, y 좌표의 합과 차를 기준으로 정렬합니다."
   ]
  },
  {
   "cell_type": "code",
   "execution_count": null,
   "metadata": {},
   "outputs": [],
   "source": [
    "import numpy as np\n",
    "\n",
    "# 좌표를 순서대로 정렬\n",
    "rect = np.zeros((4, 2), dtype=\"float32\")\n",
    "s = pts.sum(axis=1)\n",
    "rect[0] = pts[np.argmin(s)]  # 좌상단\n",
    "rect[2] = pts[np.argmax(s)]  # 우하단\n",
    "\n",
    "diff = np.diff(pts, axis=1)\n",
    "rect[1] = pts[np.argmin(diff)]  # 우상단\n",
    "rect[3] = pts[np.argmax(diff)]  # 좌하단\n"
   ]
  },
  {
   "cell_type": "markdown",
   "metadata": {},
   "source": [
    "#### 결과 확인 및 원근 변환\n",
    "이렇게 추출된 rect 좌표를 사용하여 영수증 영역을 잘라내거나 Perspective Augmentation을 적용할 수 있습니다."
   ]
  },
  {
   "cell_type": "code",
   "execution_count": null,
   "metadata": {},
   "outputs": [],
   "source": [
    "# 변환 후 이미지 크기 설정\n",
    "width, height = 500, 300\n",
    "dst = np.float32([[0, 0], [width, 0], [width, height], [0, height]])\n",
    "\n",
    "# 원근 변환 행렬 계산 및 적용\n",
    "matrix = cv2.getPerspectiveTransform(rect, dst)\n",
    "warped = cv2.warpPerspective(image, matrix, (width, height))\n",
    "\n",
    "# 결과 이미지 저장\n",
    "cv2.imwrite('warped_receipt.jpg', warped)"
   ]
  },
  {
   "cell_type": "markdown",
   "metadata": {},
   "source": [
    "이 방법을 통해 이미지에서 영수증의 좌표를 자동으로 추출할 수 있으며, 다양한 각도와 시점에서도 영수증을 정확히 인식하는 데 도움이 됩니다. 만약 윤곽선이 잘 감지되지 않는다면, 이미지 전처리 단계를 조정하거나 더 강력한 경계선 감지 방법을 적용해 볼 수 있습니다."
   ]
  },
  {
   "cell_type": "markdown",
   "metadata": {},
   "source": []
  }
 ],
 "metadata": {
  "language_info": {
   "name": "python"
  }
 },
 "nbformat": 4,
 "nbformat_minor": 2
}
