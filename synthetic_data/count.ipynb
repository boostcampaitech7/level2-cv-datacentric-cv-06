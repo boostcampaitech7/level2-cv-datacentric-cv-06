{
 "cells": [
  {
   "cell_type": "code",
   "execution_count": 1,
   "metadata": {},
   "outputs": [
    {
     "name": "stdout",
     "output_type": "stream",
     "text": [
      "JPG 파일 갯수: 626개\n",
      "TXT 파일 갯수: 626개\n"
     ]
    }
   ],
   "source": [
    "import os\n",
    "\n",
    "# 디렉토리 경로\n",
    "directory = '/data/ephemeral/home/Dong_Yeong/level2-cv-datacentric-cv-06/code/data/storie(626)'\n",
    "\n",
    "# jpg와 txt 파일 카운트\n",
    "jpg_count = len([f for f in os.listdir(directory) if f.endswith('.jpg')])\n",
    "txt_count = len([f for f in os.listdir(directory) if f.endswith('.txt')])\n",
    "\n",
    "print(f'JPG 파일 갯수: {jpg_count}개')\n",
    "print(f'TXT 파일 갯수: {txt_count}개')"
   ]
  },
  {
   "cell_type": "code",
   "execution_count": 2,
   "metadata": {},
   "outputs": [
    {
     "name": "stdout",
     "output_type": "stream",
     "text": [
      "img.shape  (1013, 463, 3)\n",
      "height  1013\n",
      "width  463\n",
      "channel  3\n"
     ]
    }
   ],
   "source": [
    "import numpy as np\n",
    "import cv2\n",
    "\n",
    "\n",
    "img = cv2.imread('/data/ephemeral/home/Dong_Yeong/level2-cv-datacentric-cv-06/code/data/storie/X00016469612.jpg', cv2.IMREAD_COLOR)\n",
    "\n",
    "\n",
    "print('img.shape ', img.shape)\n",
    "\n",
    "\n",
    "h, w, c = img.shape\n",
    "\n",
    "print('height ', h)\n",
    "print('width ', w)\n",
    "print('channel ', c)"
   ]
  },
  {
   "cell_type": "code",
   "execution_count": null,
   "metadata": {},
   "outputs": [],
   "source": []
  }
 ],
 "metadata": {
  "kernelspec": {
   "display_name": "base",
   "language": "python",
   "name": "python3"
  },
  "language_info": {
   "codemirror_mode": {
    "name": "ipython",
    "version": 3
   },
   "file_extension": ".py",
   "mimetype": "text/x-python",
   "name": "python",
   "nbconvert_exporter": "python",
   "pygments_lexer": "ipython3",
   "version": "3.10.13"
  }
 },
 "nbformat": 4,
 "nbformat_minor": 2
}
